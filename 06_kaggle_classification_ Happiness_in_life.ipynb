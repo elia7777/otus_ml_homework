{
 "cells": [
  {
   "cell_type": "markdown",
   "metadata": {},
   "source": [
    "# Задача классификации"
   ]
  },
  {
   "cell_type": "markdown",
   "metadata": {},
   "source": [
    "Датасет был взят с https://www.kaggle.com/miroslavsabo/young-people-survey"
   ]
  },
  {
   "cell_type": "code",
   "execution_count": 1,
   "metadata": {},
   "outputs": [],
   "source": [
    "import pandas as pd\n",
    "import numpy as np\n",
    "import matplotlib.pyplot as plt\n",
    "%matplotlib inline\n",
    "\n",
    "import seaborn as sns"
   ]
  },
  {
   "cell_type": "code",
   "execution_count": 2,
   "metadata": {},
   "outputs": [],
   "source": [
    "data = pd.read_csv(\"responses.csv\")"
   ]
  },
  {
   "cell_type": "markdown",
   "metadata": {},
   "source": [
    "Посмотрим на наши атрибуты"
   ]
  },
  {
   "cell_type": "code",
   "execution_count": 3,
   "metadata": {},
   "outputs": [
    {
     "data": {
      "text/html": [
       "<div>\n",
       "<style scoped>\n",
       "    .dataframe tbody tr th:only-of-type {\n",
       "        vertical-align: middle;\n",
       "    }\n",
       "\n",
       "    .dataframe tbody tr th {\n",
       "        vertical-align: top;\n",
       "    }\n",
       "\n",
       "    .dataframe thead th {\n",
       "        text-align: right;\n",
       "    }\n",
       "</style>\n",
       "<table border=\"1\" class=\"dataframe\">\n",
       "  <thead>\n",
       "    <tr style=\"text-align: right;\">\n",
       "      <th></th>\n",
       "      <th>0</th>\n",
       "      <th>1</th>\n",
       "    </tr>\n",
       "  </thead>\n",
       "  <tbody>\n",
       "    <tr>\n",
       "      <td>Music</td>\n",
       "      <td>5</td>\n",
       "      <td>4</td>\n",
       "    </tr>\n",
       "    <tr>\n",
       "      <td>Slow songs or fast songs</td>\n",
       "      <td>3</td>\n",
       "      <td>4</td>\n",
       "    </tr>\n",
       "    <tr>\n",
       "      <td>Dance</td>\n",
       "      <td>2</td>\n",
       "      <td>2</td>\n",
       "    </tr>\n",
       "    <tr>\n",
       "      <td>Folk</td>\n",
       "      <td>1</td>\n",
       "      <td>1</td>\n",
       "    </tr>\n",
       "    <tr>\n",
       "      <td>Country</td>\n",
       "      <td>2</td>\n",
       "      <td>1</td>\n",
       "    </tr>\n",
       "    <tr>\n",
       "      <td>...</td>\n",
       "      <td>...</td>\n",
       "      <td>...</td>\n",
       "    </tr>\n",
       "    <tr>\n",
       "      <td>Left - right handed</td>\n",
       "      <td>right handed</td>\n",
       "      <td>right handed</td>\n",
       "    </tr>\n",
       "    <tr>\n",
       "      <td>Education</td>\n",
       "      <td>college/bachelor degree</td>\n",
       "      <td>college/bachelor degree</td>\n",
       "    </tr>\n",
       "    <tr>\n",
       "      <td>Only child</td>\n",
       "      <td>no</td>\n",
       "      <td>no</td>\n",
       "    </tr>\n",
       "    <tr>\n",
       "      <td>Village - town</td>\n",
       "      <td>village</td>\n",
       "      <td>city</td>\n",
       "    </tr>\n",
       "    <tr>\n",
       "      <td>House - block of flats</td>\n",
       "      <td>block of flats</td>\n",
       "      <td>block of flats</td>\n",
       "    </tr>\n",
       "  </tbody>\n",
       "</table>\n",
       "<p>150 rows × 2 columns</p>\n",
       "</div>"
      ],
      "text/plain": [
       "                                                0                        1\n",
       "Music                                           5                        4\n",
       "Slow songs or fast songs                        3                        4\n",
       "Dance                                           2                        2\n",
       "Folk                                            1                        1\n",
       "Country                                         2                        1\n",
       "...                                           ...                      ...\n",
       "Left - right handed                  right handed             right handed\n",
       "Education                 college/bachelor degree  college/bachelor degree\n",
       "Only child                                     no                       no\n",
       "Village - town                            village                     city\n",
       "House - block of flats             block of flats           block of flats\n",
       "\n",
       "[150 rows x 2 columns]"
      ]
     },
     "execution_count": 3,
     "metadata": {},
     "output_type": "execute_result"
    }
   ],
   "source": [
    "data.head(2).T"
   ]
  },
  {
   "cell_type": "code",
   "execution_count": 4,
   "metadata": {},
   "outputs": [
    {
     "data": {
      "text/plain": [
       "(1010, 150)"
      ]
     },
     "execution_count": 4,
     "metadata": {},
     "output_type": "execute_result"
    }
   ],
   "source": [
    "data.shape"
   ]
  },
  {
   "cell_type": "markdown",
   "metadata": {},
   "source": [
    "Всего 1010 наблюдений по 150 атрибутам"
   ]
  },
  {
   "cell_type": "code",
   "execution_count": 5,
   "metadata": {},
   "outputs": [],
   "source": [
    "import warnings\n",
    "warnings.filterwarnings(\"ignore\")"
   ]
  },
  {
   "cell_type": "markdown",
   "metadata": {},
   "source": [
    "### Проанализируем пропущенные значения"
   ]
  },
  {
   "cell_type": "code",
   "execution_count": 6,
   "metadata": {},
   "outputs": [
    {
     "data": {
      "text/plain": [
       "Weight                 1.980198\n",
       "Height                 1.980198\n",
       "Passive sport          1.485149\n",
       "Chemistry              0.990099\n",
       "Geography              0.891089\n",
       "                         ...   \n",
       "Storm                  0.099010\n",
       "Opera                  0.099010\n",
       "Thriller               0.099010\n",
       "Musical instruments    0.099010\n",
       "Law                    0.099010\n",
       "Length: 144, dtype: float64"
      ]
     },
     "execution_count": 6,
     "metadata": {},
     "output_type": "execute_result"
    }
   ],
   "source": [
    "(data.isnull().sum()/len(data)*100).sort_values(ascending=False).loc[lambda x : x>0]\n"
   ]
  },
  {
   "cell_type": "markdown",
   "metadata": {},
   "source": [
    "Атрибуты Weight и Height имеют меньше 2% пропущенных значений, удалим их"
   ]
  },
  {
   "cell_type": "markdown",
   "metadata": {},
   "source": [
    "#### Удалим дубликаты если они есть"
   ]
  },
  {
   "cell_type": "code",
   "execution_count": 8,
   "metadata": {},
   "outputs": [
    {
     "data": {
      "text/plain": [
       "(1010, 150)"
      ]
     },
     "execution_count": 8,
     "metadata": {},
     "output_type": "execute_result"
    }
   ],
   "source": [
    "data = data[~data.duplicated()]\n",
    "data.shape"
   ]
  },
  {
   "cell_type": "markdown",
   "metadata": {},
   "source": [
    "### Выделим из 150 атрибутов только те которые на наш взягляд важны"
   ]
  },
  {
   "cell_type": "code",
   "execution_count": 9,
   "metadata": {},
   "outputs": [],
   "source": [
    "data = data[[\"Happiness in life\", \"Age\", \"Height\", \"Gender\", \"Weight\", \n",
    "              \"Left - right handed\", \"Village - town\", \"Getting up\", \"God\",\n",
    "              \"Health\", \"Borrowed stuff\", \"Self-criticism\", \"Elections\", \n",
    "              \"Smoking\", \"Alcohol\" ,\"Number of friends\", \"Spending on healthy eating\",\n",
    "              \"Music\", \"Movies\", \"Friends versus money\", \"Changing the past\"]]"
   ]
  },
  {
   "cell_type": "markdown",
   "metadata": {},
   "source": [
    "Построим график распределения"
   ]
  },
  {
   "cell_type": "code",
   "execution_count": 10,
   "metadata": {},
   "outputs": [
    {
     "data": {
      "image/png": "[encoded data removed]",
      "text/plain": [
       "<Figure size 1440x1440 with 16 Axes>"
      ]
     },
     "metadata": {
      "needs_background": "light"
     },
     "output_type": "display_data"
    }
   ],
   "source": [
    "data.hist(figsize=(20, 20));"
   ]
  },
  {
   "cell_type": "code",
   "execution_count": 11,
   "metadata": {},
   "outputs": [
    {
     "name": "stdout",
     "output_type": "stream",
     "text": [
      "<class 'pandas.core.frame.DataFrame'>\n",
      "Int64Index: 1010 entries, 0 to 1009\n",
      "Data columns (total 21 columns):\n",
      "Happiness in life             1006 non-null float64\n",
      "Age                           1003 non-null float64\n",
      "Height                        990 non-null float64\n",
      "Gender                        1004 non-null object\n",
      "Weight                        990 non-null float64\n",
      "Left - right handed           1007 non-null object\n",
      "Village - town                1006 non-null object\n",
      "Getting up                    1005 non-null float64\n",
      "God                           1008 non-null float64\n",
      "Health                        1009 non-null float64\n",
      "Borrowed stuff                1008 non-null float64\n",
      "Self-criticism                1005 non-null float64\n",
      "Elections                     1007 non-null float64\n",
      "Smoking                       1002 non-null object\n",
      "Alcohol                       1005 non-null object\n",
      "Number of friends             1010 non-null int64\n",
      "Spending on healthy eating    1008 non-null float64\n",
      "Music                         1007 non-null float64\n",
      "Movies                        1004 non-null float64\n",
      "Friends versus money          1004 non-null float64\n",
      "Changing the past             1008 non-null float64\n",
      "dtypes: float64(15), int64(1), object(5)\n",
      "memory usage: 173.6+ KB\n"
     ]
    }
   ],
   "source": [
    "data.info()"
   ]
  },
  {
   "cell_type": "markdown",
   "metadata": {},
   "source": [
    "Определим столбцы по категориям"
   ]
  },
  {
   "cell_type": "code",
   "execution_count": 12,
   "metadata": {},
   "outputs": [],
   "source": [
    "numerical = ['Age', 'Height', 'Weight']\n",
    "target = ['Happiness in life']\n",
    "categorical = [col for col in data.columns if col not in numerical+target]"
   ]
  },
  {
   "cell_type": "code",
   "execution_count": 13,
   "metadata": {},
   "outputs": [
    {
     "data": {
      "text/plain": [
       "['Gender',\n",
       " 'Left - right handed',\n",
       " 'Village - town',\n",
       " 'Getting up',\n",
       " 'God',\n",
       " 'Health',\n",
       " 'Borrowed stuff',\n",
       " 'Self-criticism',\n",
       " 'Elections',\n",
       " 'Smoking',\n",
       " 'Alcohol',\n",
       " 'Number of friends',\n",
       " 'Spending on healthy eating',\n",
       " 'Music',\n",
       " 'Movies',\n",
       " 'Friends versus money',\n",
       " 'Changing the past']"
      ]
     },
     "execution_count": 13,
     "metadata": {},
     "output_type": "execute_result"
    }
   ],
   "source": [
    "categorical"
   ]
  },
  {
   "cell_type": "code",
   "execution_count": 14,
   "metadata": {},
   "outputs": [
    {
     "data": {
      "text/html": [
       "<div>\n",
       "<style scoped>\n",
       "    .dataframe tbody tr th:only-of-type {\n",
       "        vertical-align: middle;\n",
       "    }\n",
       "\n",
       "    .dataframe tbody tr th {\n",
       "        vertical-align: top;\n",
       "    }\n",
       "\n",
       "    .dataframe thead th {\n",
       "        text-align: right;\n",
       "    }\n",
       "</style>\n",
       "<table border=\"1\" class=\"dataframe\">\n",
       "  <thead>\n",
       "    <tr style=\"text-align: right;\">\n",
       "      <th></th>\n",
       "      <th>Gender</th>\n",
       "      <th>Left - right handed</th>\n",
       "      <th>Village - town</th>\n",
       "      <th>Getting up</th>\n",
       "      <th>God</th>\n",
       "      <th>Health</th>\n",
       "      <th>Borrowed stuff</th>\n",
       "      <th>Self-criticism</th>\n",
       "      <th>Elections</th>\n",
       "      <th>Smoking</th>\n",
       "      <th>Alcohol</th>\n",
       "      <th>Number of friends</th>\n",
       "      <th>Spending on healthy eating</th>\n",
       "      <th>Music</th>\n",
       "      <th>Movies</th>\n",
       "      <th>Friends versus money</th>\n",
       "      <th>Changing the past</th>\n",
       "    </tr>\n",
       "  </thead>\n",
       "  <tbody>\n",
       "    <tr>\n",
       "      <td>0</td>\n",
       "      <td>female</td>\n",
       "      <td>right handed</td>\n",
       "      <td>village</td>\n",
       "      <td>2.0</td>\n",
       "      <td>1.0</td>\n",
       "      <td>1.0</td>\n",
       "      <td>4.0</td>\n",
       "      <td>1.0</td>\n",
       "      <td>4.0</td>\n",
       "      <td>never smoked</td>\n",
       "      <td>drink a lot</td>\n",
       "      <td>3</td>\n",
       "      <td>3.0</td>\n",
       "      <td>5.0</td>\n",
       "      <td>5.0</td>\n",
       "      <td>3.0</td>\n",
       "      <td>1.0</td>\n",
       "    </tr>\n",
       "    <tr>\n",
       "      <td>1</td>\n",
       "      <td>female</td>\n",
       "      <td>right handed</td>\n",
       "      <td>city</td>\n",
       "      <td>5.0</td>\n",
       "      <td>1.0</td>\n",
       "      <td>4.0</td>\n",
       "      <td>3.0</td>\n",
       "      <td>4.0</td>\n",
       "      <td>5.0</td>\n",
       "      <td>never smoked</td>\n",
       "      <td>drink a lot</td>\n",
       "      <td>3</td>\n",
       "      <td>2.0</td>\n",
       "      <td>4.0</td>\n",
       "      <td>5.0</td>\n",
       "      <td>4.0</td>\n",
       "      <td>4.0</td>\n",
       "    </tr>\n",
       "    <tr>\n",
       "      <td>2</td>\n",
       "      <td>female</td>\n",
       "      <td>right handed</td>\n",
       "      <td>city</td>\n",
       "      <td>4.0</td>\n",
       "      <td>5.0</td>\n",
       "      <td>2.0</td>\n",
       "      <td>2.0</td>\n",
       "      <td>4.0</td>\n",
       "      <td>5.0</td>\n",
       "      <td>tried smoking</td>\n",
       "      <td>drink a lot</td>\n",
       "      <td>3</td>\n",
       "      <td>2.0</td>\n",
       "      <td>5.0</td>\n",
       "      <td>5.0</td>\n",
       "      <td>5.0</td>\n",
       "      <td>5.0</td>\n",
       "    </tr>\n",
       "    <tr>\n",
       "      <td>3</td>\n",
       "      <td>female</td>\n",
       "      <td>right handed</td>\n",
       "      <td>city</td>\n",
       "      <td>1.0</td>\n",
       "      <td>4.0</td>\n",
       "      <td>1.0</td>\n",
       "      <td>5.0</td>\n",
       "      <td>5.0</td>\n",
       "      <td>5.0</td>\n",
       "      <td>former smoker</td>\n",
       "      <td>drink a lot</td>\n",
       "      <td>1</td>\n",
       "      <td>1.0</td>\n",
       "      <td>5.0</td>\n",
       "      <td>5.0</td>\n",
       "      <td>2.0</td>\n",
       "      <td>5.0</td>\n",
       "    </tr>\n",
       "    <tr>\n",
       "      <td>4</td>\n",
       "      <td>female</td>\n",
       "      <td>right handed</td>\n",
       "      <td>village</td>\n",
       "      <td>4.0</td>\n",
       "      <td>5.0</td>\n",
       "      <td>3.0</td>\n",
       "      <td>4.0</td>\n",
       "      <td>5.0</td>\n",
       "      <td>5.0</td>\n",
       "      <td>tried smoking</td>\n",
       "      <td>social drinker</td>\n",
       "      <td>3</td>\n",
       "      <td>4.0</td>\n",
       "      <td>5.0</td>\n",
       "      <td>5.0</td>\n",
       "      <td>3.0</td>\n",
       "      <td>4.0</td>\n",
       "    </tr>\n",
       "  </tbody>\n",
       "</table>\n",
       "</div>"
      ],
      "text/plain": [
       "   Gender Left - right handed Village - town  Getting up  God  Health  \\\n",
       "0  female        right handed        village         2.0  1.0     1.0   \n",
       "1  female        right handed           city         5.0  1.0     4.0   \n",
       "2  female        right handed           city         4.0  5.0     2.0   \n",
       "3  female        right handed           city         1.0  4.0     1.0   \n",
       "4  female        right handed        village         4.0  5.0     3.0   \n",
       "\n",
       "   Borrowed stuff  Self-criticism  Elections        Smoking         Alcohol  \\\n",
       "0             4.0             1.0        4.0   never smoked     drink a lot   \n",
       "1             3.0             4.0        5.0   never smoked     drink a lot   \n",
       "2             2.0             4.0        5.0  tried smoking     drink a lot   \n",
       "3             5.0             5.0        5.0  former smoker     drink a lot   \n",
       "4             4.0             5.0        5.0  tried smoking  social drinker   \n",
       "\n",
       "   Number of friends  Spending on healthy eating  Music  Movies  \\\n",
       "0                  3                         3.0    5.0     5.0   \n",
       "1                  3                         2.0    4.0     5.0   \n",
       "2                  3                         2.0    5.0     5.0   \n",
       "3                  1                         1.0    5.0     5.0   \n",
       "4                  3                         4.0    5.0     5.0   \n",
       "\n",
       "   Friends versus money  Changing the past  \n",
       "0                   3.0                1.0  \n",
       "1                   4.0                4.0  \n",
       "2                   5.0                5.0  \n",
       "3                   2.0                5.0  \n",
       "4                   3.0                4.0  "
      ]
     },
     "execution_count": 14,
     "metadata": {},
     "output_type": "execute_result"
    }
   ],
   "source": [
    "data[categorical].head()"
   ]
  },
  {
   "cell_type": "markdown",
   "metadata": {},
   "source": [
    "Определим стобцы для one hot encoding"
   ]
  },
  {
   "cell_type": "code",
   "execution_count": 15,
   "metadata": {},
   "outputs": [],
   "source": [
    "to_dummies = [\n",
    "    'Gender',\n",
    "    'Left - right handed',\n",
    "    'Village - town',\n",
    "    'Smoking',\n",
    "    'Alcohol'\n",
    "]"
   ]
  },
  {
   "cell_type": "code",
   "execution_count": 16,
   "metadata": {},
   "outputs": [],
   "source": [
    "data_preprocessed = pd.get_dummies(data, columns=to_dummies, drop_first=True)"
   ]
  },
  {
   "cell_type": "markdown",
   "metadata": {},
   "source": [
    "Удалим пропущенные значения"
   ]
  },
  {
   "cell_type": "code",
   "execution_count": 17,
   "metadata": {},
   "outputs": [],
   "source": [
    "data_preprocessed.dropna(inplace=True)"
   ]
  },
  {
   "cell_type": "code",
   "execution_count": 18,
   "metadata": {},
   "outputs": [
    {
     "data": {
      "text/plain": [
       "(942, 24)"
      ]
     },
     "execution_count": 18,
     "metadata": {},
     "output_type": "execute_result"
    }
   ],
   "source": [
    "data_preprocessed.shape"
   ]
  },
  {
   "cell_type": "markdown",
   "metadata": {},
   "source": [
    "### Выполним разбиение на трейн тест и  нормализацию непрерывных значений"
   ]
  },
  {
   "cell_type": "code",
   "execution_count": 19,
   "metadata": {},
   "outputs": [],
   "source": [
    "from sklearn.preprocessing import StandardScaler\n",
    "from sklearn.model_selection import train_test_split"
   ]
  },
  {
   "cell_type": "code",
   "execution_count": 20,
   "metadata": {},
   "outputs": [],
   "source": [
    "from sklearn.metrics import classification_report\n",
    "from sklearn.linear_model import LogisticRegression, LogisticRegressionCV"
   ]
  },
  {
   "cell_type": "code",
   "execution_count": 21,
   "metadata": {},
   "outputs": [],
   "source": [
    "X_train, X_test, y_train, y_test = train_test_split(\n",
    "    data_preprocessed.drop(target, axis=1), \n",
    "    data_preprocessed[target], \n",
    "    test_size=0.20, \n",
    "    random_state=42, \n",
    "    stratify=data_preprocessed[target]\n",
    ")\n",
    "\n",
    "# стандартизируем\n",
    "scaler = StandardScaler()\n",
    "\n",
    "X_train_scaled = scaler.fit_transform(X_train[numerical])\n",
    "X_test_scaled = scaler.transform(X_test[numerical])\n",
    "\n",
    "X_train[numerical] = X_train_scaled\n",
    "X_test[numerical] = X_test_scaled"
   ]
  },
  {
   "cell_type": "markdown",
   "metadata": {},
   "source": [
    "Посмотрим нараспределение целевой переменной в трейн выборке"
   ]
  },
  {
   "cell_type": "code",
   "execution_count": 22,
   "metadata": {},
   "outputs": [
    {
     "data": {
      "text/plain": [
       "4.0    0.505976\n",
       "3.0    0.280212\n",
       "5.0    0.140770\n",
       "2.0    0.059761\n",
       "1.0    0.013280\n",
       "Name: Happiness in life, dtype: float64"
      ]
     },
     "execution_count": 22,
     "metadata": {},
     "output_type": "execute_result"
    }
   ],
   "source": [
    "y_train['Happiness in life'].value_counts(normalize=True)"
   ]
  },
  {
   "cell_type": "code",
   "execution_count": 23,
   "metadata": {},
   "outputs": [
    {
     "data": {
      "text/plain": [
       "<matplotlib.axes._subplots.AxesSubplot at 0xbeea588>"
      ]
     },
     "execution_count": 23,
     "metadata": {},
     "output_type": "execute_result"
    },
    {
     "data": {
      "image/png": "[encoded data removed]",
      "text/plain": [
       "<Figure size 432x288 with 1 Axes>"
      ]
     },
     "metadata": {
      "needs_background": "light"
     },
     "output_type": "display_data"
    }
   ],
   "source": [
    "y_train['Happiness in life'].hist()"
   ]
  },
  {
   "cell_type": "markdown",
   "metadata": {},
   "source": [
    "### Сделаем нивный baseline прогноз"
   ]
  },
  {
   "cell_type": "markdown",
   "metadata": {},
   "source": [
    "Посколько целевая переменная не сбалансирована, учтем это при наивном прогнозе"
   ]
  },
  {
   "cell_type": "code",
   "execution_count": 24,
   "metadata": {},
   "outputs": [],
   "source": [
    "y_naive_pred = np.random.choice(\n",
    "    [4., 3., 5., 2., 1.], \n",
    "    len(y_test), \n",
    "    p=y_train['Happiness in life'].value_counts(normalize=True).values)"
   ]
  },
  {
   "cell_type": "code",
   "execution_count": 25,
   "metadata": {},
   "outputs": [
    {
     "data": {
      "text/plain": [
       "(array([  1.,   0.,  15.,   0.,   0.,  53.,   0., 101.,   0.,  19.]),\n",
       " array([1. , 1.4, 1.8, 2.2, 2.6, 3. , 3.4, 3.8, 4.2, 4.6, 5. ]),\n",
       " <a list of 10 Patch objects>)"
      ]
     },
     "execution_count": 25,
     "metadata": {},
     "output_type": "execute_result"
    },
    {
     "data": {
      "image/png": "[encoded data removed]",
      "text/plain": [
       "<Figure size 432x288 with 1 Axes>"
      ]
     },
     "metadata": {
      "needs_background": "light"
     },
     "output_type": "display_data"
    }
   ],
   "source": [
    "plt.hist(y_naive_pred)"
   ]
  },
  {
   "cell_type": "markdown",
   "metadata": {},
   "source": [
    "Распределение прогнозного значения совпадает трейн выборкой"
   ]
  },
  {
   "cell_type": "markdown",
   "metadata": {},
   "source": [
    "Посмотрим на точность прогнозирования наивного прогноза"
   ]
  },
  {
   "cell_type": "code",
   "execution_count": 26,
   "metadata": {},
   "outputs": [
    {
     "name": "stdout",
     "output_type": "stream",
     "text": [
      "              precision    recall  f1-score   support\n",
      "\n",
      "         1.0       0.00      0.00      0.00         2\n",
      "         2.0       0.07      0.09      0.08        11\n",
      "         3.0       0.34      0.34      0.34        53\n",
      "         4.0       0.55      0.58      0.57        96\n",
      "         5.0       0.21      0.15      0.17        27\n",
      "\n",
      "    accuracy                           0.42       189\n",
      "   macro avg       0.23      0.23      0.23       189\n",
      "weighted avg       0.41      0.42      0.41       189\n",
      "\n"
     ]
    }
   ],
   "source": [
    "print(classification_report(y_test, y_naive_pred))"
   ]
  },
  {
   "cell_type": "markdown",
   "metadata": {},
   "source": [
    "Посмотрим на матрицу ошибок"
   ]
  },
  {
   "cell_type": "code",
   "execution_count": 27,
   "metadata": {},
   "outputs": [
    {
     "data": {
      "image/png": "[encoded data removed]",
      "text/plain": [
       "<Figure size 360x360 with 1 Axes>"
      ]
     },
     "metadata": {
      "needs_background": "light"
     },
     "output_type": "display_data"
    }
   ],
   "source": [
    "from sklearn.metrics import confusion_matrix\n",
    "\n",
    "cm = confusion_matrix(y_test, y_naive_pred)\n",
    "\n",
    "conf_matrix = pd.DataFrame(data = cm, index=range(1, 6), columns=range(1, 6))\n",
    "plt.figure(figsize = (5,5))\n",
    "sns.heatmap(conf_matrix, annot=True,fmt='d',cmap=\"YlGnBu\", cbar=False);"
   ]
  },
  {
   "cell_type": "markdown",
   "metadata": {},
   "source": [
    "### Применим простую логистическую регрессию"
   ]
  },
  {
   "cell_type": "code",
   "execution_count": 30,
   "metadata": {},
   "outputs": [
    {
     "name": "stdout",
     "output_type": "stream",
     "text": [
      "              precision    recall  f1-score   support\n",
      "\n",
      "         1.0       0.00      0.00      0.00         2\n",
      "         2.0       0.00      0.00      0.00        11\n",
      "         3.0       0.40      0.32      0.35        53\n",
      "         4.0       0.57      0.78      0.66        96\n",
      "         5.0       0.80      0.30      0.43        27\n",
      "\n",
      "    accuracy                           0.53       189\n",
      "   macro avg       0.35      0.28      0.29       189\n",
      "weighted avg       0.52      0.53      0.50       189\n",
      "\n"
     ]
    }
   ],
   "source": [
    "log_reg = LogisticRegression()\n",
    "\n",
    "log_reg.fit(X_train, y_train)\n",
    "\n",
    "print(classification_report(y_test, log_reg.predict(X_test)))"
   ]
  },
  {
   "cell_type": "code",
   "execution_count": 32,
   "metadata": {},
   "outputs": [
    {
     "data": {
      "text/plain": [
       "<matplotlib.axes._subplots.AxesSubplot at 0xd640f88>"
      ]
     },
     "execution_count": 32,
     "metadata": {},
     "output_type": "execute_result"
    },
    {
     "data": {
      "image/png": "[encoded data removed]",
      "text/plain": [
       "<Figure size 360x360 with 1 Axes>"
      ]
     },
     "metadata": {
      "needs_background": "light"
     },
     "output_type": "display_data"
    }
   ],
   "source": [
    "cm = confusion_matrix(y_test, log_reg.predict(X_test))\n",
    "conf_matrix = pd.DataFrame(data = cm, index=range(1, 6), columns=range(1, 6))\n",
    "plt.figure(figsize = (5,5))\n",
    "sns.heatmap(conf_matrix, annot=True,fmt='d',cmap=\"YlGnBu\", cbar=False)"
   ]
  },
  {
   "cell_type": "markdown",
   "metadata": {},
   "source": [
    "### Используем кросс-валидацию"
   ]
  },
  {
   "cell_type": "code",
   "execution_count": 33,
   "metadata": {},
   "outputs": [
    {
     "name": "stdout",
     "output_type": "stream",
     "text": [
      "              precision    recall  f1-score   support\n",
      "\n",
      "         1.0       0.00      0.00      0.00         2\n",
      "         2.0       0.00      0.00      0.00        11\n",
      "         3.0       0.42      0.36      0.39        53\n",
      "         4.0       0.57      0.79      0.66        96\n",
      "         5.0       0.75      0.22      0.34        27\n",
      "\n",
      "    accuracy                           0.53       189\n",
      "   macro avg       0.35      0.27      0.28       189\n",
      "weighted avg       0.51      0.53      0.49       189\n",
      "\n"
     ]
    },
    {
     "data": {
      "image/png": "[encoded data removed]",
      "text/plain": [
       "<Figure size 360x360 with 1 Axes>"
      ]
     },
     "metadata": {
      "needs_background": "light"
     },
     "output_type": "display_data"
    }
   ],
   "source": [
    "from sklearn.linear_model import LogisticRegressionCV\n",
    "from sklearn.model_selection import StratifiedKFold\n",
    "\n",
    "sfk = StratifiedKFold(n_splits=5)\n",
    "\n",
    "logit_cv = LogisticRegressionCV(Cs=1000, cv=sfk, solver='lbfgs')\n",
    "\n",
    "logit_cv.fit(X_train, y_train)\n",
    "\n",
    "print(classification_report(y_test, logit_cv.predict(X_test)))\n",
    "\n",
    "cm = confusion_matrix(y_test, logit_cv.predict(X_test))\n",
    "conf_matrix = pd.DataFrame(data = cm, index=range(1, 6), columns=range(1, 6))\n",
    "plt.figure(figsize = (5,5))\n",
    "sns.heatmap(conf_matrix, annot=True,fmt='d',cmap=\"YlGnBu\", cbar=False);"
   ]
  },
  {
   "cell_type": "markdown",
   "metadata": {},
   "source": [
    "В результате мы построили модель классфикации уровня счастья."
   ]
  }
 ],
 "metadata": {
  "kernelspec": {
   "display_name": "Python 3",
   "language": "python",
   "name": "python3"
  },
  "language_info": {
   "codemirror_mode": {
    "name": "ipython",
    "version": 3
   },
   "file_extension": ".py",
   "mimetype": "text/x-python",
   "name": "python",
   "nbconvert_exporter": "python",
   "pygments_lexer": "ipython3",
   "version": "3.7.4"
  }
 },
 "nbformat": 4,
 "nbformat_minor": 2
}
